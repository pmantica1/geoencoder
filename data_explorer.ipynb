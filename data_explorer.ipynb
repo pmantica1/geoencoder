{
 "cells": [
  {
   "cell_type": "code",
   "execution_count": 1,
   "metadata": {},
   "outputs": [],
   "source": [
    "import pandas as pd \n",
    "import json \n",
    "import datetime\n",
    "import numpy as np\n",
    "import matplotlib.pyplot as plt \n",
    "from sklearn import preprocessing\n",
    "from geoencoder.grid_encoder import GridEncoder \n",
    "from geoencoder.location import Location\n"
   ]
  },
  {
   "cell_type": "code",
   "execution_count": 2,
   "metadata": {
    "collapsed": true
   },
   "outputs": [],
   "source": [
    "location_data = pd.read_csv(\"geocoded.tsv\", sep=\"\\t\")"
   ]
  },
  {
   "cell_type": "code",
   "execution_count": 3,
   "metadata": {
    "collapsed": true
   },
   "outputs": [],
   "source": [
    "blockchain_info = json.load(open(\"blockchaininfo.json\"))"
   ]
  },
  {
   "cell_type": "code",
   "execution_count": 4,
   "metadata": {
    "collapsed": true
   },
   "outputs": [],
   "source": [
    "del location_data[\"coin\"]"
   ]
  },
  {
   "cell_type": "code",
   "execution_count": 5,
   "metadata": {
    "collapsed": true
   },
   "outputs": [],
   "source": [
    "location_data.set_index(\"address\", inplace=True)"
   ]
  },
  {
   "cell_type": "code",
   "execution_count": 6,
   "metadata": {
    "scrolled": true
   },
   "outputs": [
    {
     "data": {
      "text/html": [
       "<div>\n",
       "<style>\n",
       "    .dataframe thead tr:only-child th {\n",
       "        text-align: right;\n",
       "    }\n",
       "\n",
       "    .dataframe thead th {\n",
       "        text-align: left;\n",
       "    }\n",
       "\n",
       "    .dataframe tbody tr th {\n",
       "        vertical-align: top;\n",
       "    }\n",
       "</style>\n",
       "<table border=\"1\" class=\"dataframe\">\n",
       "  <thead>\n",
       "    <tr style=\"text-align: right;\">\n",
       "      <th></th>\n",
       "      <th>bottom</th>\n",
       "      <th>left</th>\n",
       "      <th>top</th>\n",
       "      <th>right</th>\n",
       "    </tr>\n",
       "    <tr>\n",
       "      <th>address</th>\n",
       "      <th></th>\n",
       "      <th></th>\n",
       "      <th></th>\n",
       "      <th></th>\n",
       "    </tr>\n",
       "  </thead>\n",
       "  <tbody>\n",
       "    <tr>\n",
       "      <th>1000000000000000000000000000</th>\n",
       "      <td>52.169746</td>\n",
       "      <td>12.463552</td>\n",
       "      <td>52.862511</td>\n",
       "      <td>14.305487</td>\n",
       "    </tr>\n",
       "    <tr>\n",
       "      <th>1000000000000000000000000000000</th>\n",
       "      <td>52.169746</td>\n",
       "      <td>12.463552</td>\n",
       "      <td>52.862511</td>\n",
       "      <td>14.305487</td>\n",
       "    </tr>\n",
       "    <tr>\n",
       "      <th>104fb073f9a131f2cab49184bb864ca2</th>\n",
       "      <td>43.306789</td>\n",
       "      <td>-80.157295</td>\n",
       "      <td>43.999554</td>\n",
       "      <td>-78.608101</td>\n",
       "    </tr>\n",
       "    <tr>\n",
       "      <th>106d4648661d49e16d103b071e26617e</th>\n",
       "      <td>30.554756</td>\n",
       "      <td>120.872208</td>\n",
       "      <td>31.869980</td>\n",
       "      <td>122.244728</td>\n",
       "    </tr>\n",
       "    <tr>\n",
       "      <th>10lvumPW24UNLoQU1RSseyIDwGgjQ</th>\n",
       "      <td>35.365032</td>\n",
       "      <td>-32.044041</td>\n",
       "      <td>71.734970</td>\n",
       "      <td>67.004044</td>\n",
       "    </tr>\n",
       "  </tbody>\n",
       "</table>\n",
       "</div>"
      ],
      "text/plain": [
       "                                     bottom        left        top       right\n",
       "address                                                                       \n",
       "1000000000000000000000000000      52.169746   12.463552  52.862511   14.305487\n",
       "1000000000000000000000000000000   52.169746   12.463552  52.862511   14.305487\n",
       "104fb073f9a131f2cab49184bb864ca2  43.306789  -80.157295  43.999554  -78.608101\n",
       "106d4648661d49e16d103b071e26617e  30.554756  120.872208  31.869980  122.244728\n",
       "10lvumPW24UNLoQU1RSseyIDwGgjQ     35.365032  -32.044041  71.734970   67.004044"
      ]
     },
     "execution_count": 6,
     "metadata": {},
     "output_type": "execute_result"
    }
   ],
   "source": [
    "location_data.head()"
   ]
  },
  {
   "cell_type": "code",
   "execution_count": 7,
   "metadata": {
    "collapsed": true
   },
   "outputs": [],
   "source": [
    "location_data_dic = location_data.to_dict(\"index\")"
   ]
  },
  {
   "cell_type": "code",
   "execution_count": 8,
   "metadata": {
    "collapsed": true
   },
   "outputs": [],
   "source": [
    "addresses =[] \n",
    "hours = []"
   ]
  },
  {
   "cell_type": "code",
   "execution_count": 9,
   "metadata": {
    "collapsed": true
   },
   "outputs": [],
   "source": [
    "i=0\n",
    "#print(len(blockchain_info))\n",
    "for val in blockchain_info.values():\n",
    "    if val != None:\n",
    "        address = val[\"address\"]\n",
    "        txs = val[\"txs\"]\n",
    "        if len(txs) != 0:\n",
    "            time = txs[0][\"time\"]\n",
    "            parsed_time = datetime.datetime.utcfromtimestamp(time)\n",
    "            hour = parsed_time.hour\n",
    "            minute = parsed_time.minute\n",
    "\n",
    "            addresses.append(address)\n",
    "            hours.append(hour)"
   ]
  },
  {
   "cell_type": "code",
   "execution_count": 10,
   "metadata": {
    "collapsed": true
   },
   "outputs": [],
   "source": [
    "le = preprocessing.LabelEncoder()"
   ]
  },
  {
   "cell_type": "code",
   "execution_count": 11,
   "metadata": {
    "collapsed": true
   },
   "outputs": [],
   "source": [
    "hour_vectors = le.fit_transform(hours)"
   ]
  },
  {
   "cell_type": "code",
   "execution_count": 12,
   "metadata": {
    "collapsed": true
   },
   "outputs": [],
   "source": [
    "num_points = len(hours)"
   ]
  },
  {
   "cell_type": "code",
   "execution_count": 13,
   "metadata": {
    "collapsed": true
   },
   "outputs": [],
   "source": [
    "training = list(zip(hours, addresses))[:int(0.6*num_points)]\n",
    "validation = list(zip(hour_vectors, addresses))[int(0.6*num_points):int(0.8*num_points)]\n",
    "testing = list(zip(hour_vectors, addresses))[int(0.8*num_points):]"
   ]
  },
  {
   "cell_type": "code",
   "execution_count": 14,
   "metadata": {
    "collapsed": true
   },
   "outputs": [],
   "source": [
    "def get_hour_location_prob(data, resolution):\n",
    "    grid_encoder = GridEncoder(resolution)\n",
    "    hour_to_mapping = {}\n",
    "    hour_counts = {}\n",
    "    for hour, address in data:\n",
    "        box= location_data_dic[address]\n",
    "        location =Location(box[\"bottom\"], box[\"top\"], box[\"left\"], box[\"right\"])\n",
    "        encoding = grid_encoder.encode(location)\n",
    "        #print(np.sum(np.sum(encoding)))\n",
    "        if hour not in hour_to_mapping:\n",
    "            hour_counts[hour] =1 \n",
    "            hour_to_mapping[hour] = encoding\n",
    "        else:\n",
    "            hour_counts[hour]+=1\n",
    "            hour_to_mapping[hour] += encoding\n",
    "            #print(np.sum(hour_to_mapping[hour])\n",
    "    for hour in hour_to_mapping:\n",
    "        hour_to_mapping[hour] /= hour_counts[hour]\n",
    "    return hour_to_mapping\n"
   ]
  },
  {
   "cell_type": "code",
   "execution_count": 15,
   "metadata": {
    "collapsed": true
   },
   "outputs": [],
   "source": [
    "def get_hour_raw(data):\n",
    "    hour_to_lat = {}\n",
    "    hour_to_long = {}\n",
    "    for hour, address in data:\n",
    "        hour_to_lat.setdefault(hour, default=[])\n",
    "        hourrr_to_long.setdefault(hour, default=[])\n",
    "        box= location_data_dic[address]\n",
    "        lat = (box[\"bottom\"]+box[\"top\"])/2\n",
    "        long = (box[\"left\"]+box[\"right\"])/2\n",
    "        hour_to_lat[hour].append(lat)\n",
    "        hour_to_long[hour].append(log)"
   ]
  },
  {
   "cell_type": "code",
   "execution_count": 64,
   "metadata": {},
   "outputs": [
    {
     "name": "stdout",
     "output_type": "stream",
     "text": [
      "(10, 20)\n"
     ]
    }
   ],
   "source": [
    "training_hour_location_prob = get_hour_location_prob(training, 18)\n",
    "gen_dist = np.array([np.array(val) for val in training_hour_location_prob.values()])\n",
    "gen_dist = np.sum(gen_dist, axis=0)/24\n",
    "print(gen_dist.shape)\n",
    "validation_hour_location_prob = get_hour_location_prob(validation, 18)\n"
   ]
  },
  {
   "cell_type": "code",
   "execution_count": 54,
   "metadata": {},
   "outputs": [
    {
     "name": "stdout",
     "output_type": "stream",
     "text": [
      "1.0\n"
     ]
    }
   ],
   "source": [
    "print(np.sum(np.sum(validation_hour_location_prob[1])))"
   ]
  },
  {
   "cell_type": "code",
   "execution_count": 65,
   "metadata": {
    "scrolled": true
   },
   "outputs": [],
   "source": [
    "gen_discrepancy = 0\n",
    "hour_discrepancy =0 \n",
    "for hour in validation_hour_location_prob:\n",
    "    hour_discrepancy += np.sum(np.sum(np.abs(training_hour_location_prob[hour]- validation_hour_location_prob[hour])))\n",
    "    diff = np.sum(np.abs(gen_dist- validation_hour_location_prob[hour]))\n",
    "    gen_discrepancy += diff\n"
   ]
  },
  {
   "cell_type": "code",
   "execution_count": 66,
   "metadata": {},
   "outputs": [
    {
     "name": "stdout",
     "output_type": "stream",
     "text": [
      "25.4019230276\n",
      "25.2716379961\n"
     ]
    }
   ],
   "source": [
    "print(gen_discrepancy)\n",
    "print(hour_discrepancy)"
   ]
  },
  {
   "cell_type": "code",
   "execution_count": null,
   "metadata": {},
   "outputs": [],
   "source": [
    "plt.pcolormesh(training_hour_location_prob[8])\n",
    "plt.show()"
   ]
  }
 ],
 "metadata": {
  "kernelspec": {
   "display_name": "Python 3",
   "language": "python",
   "name": "python3"
  },
  "language_info": {
   "codemirror_mode": {
    "name": "ipython",
    "version": 3
   },
   "file_extension": ".py",
   "mimetype": "text/x-python",
   "name": "python",
   "nbconvert_exporter": "python",
   "pygments_lexer": "ipython3",
   "version": "3.5.2"
  }
 },
 "nbformat": 4,
 "nbformat_minor": 2
}
